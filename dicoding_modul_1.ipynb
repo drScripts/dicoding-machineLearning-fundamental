{
 "metadata": {
  "language_info": {
   "codemirror_mode": {
    "name": "ipython",
    "version": 3
   },
   "file_extension": ".py",
   "mimetype": "text/x-python",
   "name": "python",
   "nbconvert_exporter": "python",
   "pygments_lexer": "ipython3",
   "version": "3.8.5-final"
  },
  "orig_nbformat": 2,
  "kernelspec": {
   "name": "python385jvsc74a57bd088907593cfb610c747ead06f2a07d50fa90ea1d2f0e6acefc6289fbf6aec7334",
   "display_name": "Python 3.8.5 64-bit (conda)"
  }
 },
 "nbformat": 4,
 "nbformat_minor": 2,
 "cells": [
  {
   "cell_type": "code",
   "execution_count": 2,
   "metadata": {},
   "outputs": [
    {
     "output_type": "execute_result",
     "data": {
      "text/plain": [
       "       longitude  latitude  housing_median_age  total_rooms  total_bedrooms  \\\n",
       "16995    -124.26     40.58                52.0       2217.0           394.0   \n",
       "16996    -124.27     40.69                36.0       2349.0           528.0   \n",
       "16997    -124.30     41.84                17.0       2677.0           531.0   \n",
       "16998    -124.30     41.80                19.0       2672.0           552.0   \n",
       "16999    -124.35     40.54                52.0       1820.0           300.0   \n",
       "\n",
       "       population  households  median_income  median_house_value  \n",
       "16995       907.0       369.0         2.3571            111400.0  \n",
       "16996      1194.0       465.0         2.5179             79000.0  \n",
       "16997      1244.0       456.0         3.0313            103600.0  \n",
       "16998      1298.0       478.0         1.9797             85800.0  \n",
       "16999       806.0       270.0         3.0147             94600.0  "
      ],
      "text/html": "<div>\n<style scoped>\n    .dataframe tbody tr th:only-of-type {\n        vertical-align: middle;\n    }\n\n    .dataframe tbody tr th {\n        vertical-align: top;\n    }\n\n    .dataframe thead th {\n        text-align: right;\n    }\n</style>\n<table border=\"1\" class=\"dataframe\">\n  <thead>\n    <tr style=\"text-align: right;\">\n      <th></th>\n      <th>longitude</th>\n      <th>latitude</th>\n      <th>housing_median_age</th>\n      <th>total_rooms</th>\n      <th>total_bedrooms</th>\n      <th>population</th>\n      <th>households</th>\n      <th>median_income</th>\n      <th>median_house_value</th>\n    </tr>\n  </thead>\n  <tbody>\n    <tr>\n      <th>16995</th>\n      <td>-124.26</td>\n      <td>40.58</td>\n      <td>52.0</td>\n      <td>2217.0</td>\n      <td>394.0</td>\n      <td>907.0</td>\n      <td>369.0</td>\n      <td>2.3571</td>\n      <td>111400.0</td>\n    </tr>\n    <tr>\n      <th>16996</th>\n      <td>-124.27</td>\n      <td>40.69</td>\n      <td>36.0</td>\n      <td>2349.0</td>\n      <td>528.0</td>\n      <td>1194.0</td>\n      <td>465.0</td>\n      <td>2.5179</td>\n      <td>79000.0</td>\n    </tr>\n    <tr>\n      <th>16997</th>\n      <td>-124.30</td>\n      <td>41.84</td>\n      <td>17.0</td>\n      <td>2677.0</td>\n      <td>531.0</td>\n      <td>1244.0</td>\n      <td>456.0</td>\n      <td>3.0313</td>\n      <td>103600.0</td>\n    </tr>\n    <tr>\n      <th>16998</th>\n      <td>-124.30</td>\n      <td>41.80</td>\n      <td>19.0</td>\n      <td>2672.0</td>\n      <td>552.0</td>\n      <td>1298.0</td>\n      <td>478.0</td>\n      <td>1.9797</td>\n      <td>85800.0</td>\n    </tr>\n    <tr>\n      <th>16999</th>\n      <td>-124.35</td>\n      <td>40.54</td>\n      <td>52.0</td>\n      <td>1820.0</td>\n      <td>300.0</td>\n      <td>806.0</td>\n      <td>270.0</td>\n      <td>3.0147</td>\n      <td>94600.0</td>\n    </tr>\n  </tbody>\n</table>\n</div>"
     },
     "metadata": {},
     "execution_count": 2
    }
   ],
   "source": [
    "# library pandas digunakan untuk menganalisis dan memanipulasi data\n",
    "\n",
    "## latihan pandas\n",
    "\n",
    "## Mengimpoort Library pandas\n",
    "import pandas as pd\n",
    "\n",
    "## membaca fila csv\n",
    "data = pd.read_csv('dataset/california_housing_train.csv') # membaca secara keseluruhan\n",
    "data.head() # membaca 5 pertama\n",
    "data.tail() # membaca 5 terakhir"
   ]
  },
  {
   "cell_type": "code",
   "execution_count": 7,
   "metadata": {},
   "outputs": [
    {
     "output_type": "execute_result",
     "data": {
      "text/plain": [
       "array([[0.25806452, 0.45454545],\n",
       "       [1.        , 1.        ],\n",
       "       [0.        , 0.        ],\n",
       "       [0.08064516, 0.13636364],\n",
       "       [0.16129032, 0.27272727]])"
      ]
     },
     "metadata": {},
     "execution_count": 7
    }
   ],
   "source": [
    "# latihan Normalizaition untuk mengubah nilai sebuah fiture menjadi dalam skala yang sama\n",
    "\n",
    "# import MinMaxScaller dalam sklearn.preprocessing\n",
    "from sklearn.preprocessing import MinMaxScaler\n",
    "\n",
    "# inisialisasi kelas MinMaxScaler\n",
    "scaler = MinMaxScaler()\n",
    "data = [[12000000, 33], [35000000, 45], [4000000, 23], [6500000, 26], [9000000, 29]]\n",
    "## scaler.fit(data)\n",
    "## scaler.transform(data)\n",
    "\n",
    "# bisa di persingkat menjadi\n",
    "scaler.fit_transform(data)"
   ]
  },
  {
   "cell_type": "code",
   "execution_count": 9,
   "metadata": {},
   "outputs": [
    {
     "output_type": "execute_result",
     "data": {
      "text/plain": [
       "array([[-0.11638732,  0.23521877],\n",
       "       [ 1.94277296,  1.80334389],\n",
       "       [-0.83261698, -1.07155217],\n",
       "       [-0.60879521, -0.67952089],\n",
       "       [-0.38497344, -0.28748961]])"
      ]
     },
     "metadata": {},
     "execution_count": 9
    }
   ],
   "source": [
    "# latihan standarization dimana fungsi sama dengan normalization untuk menyamakan skala sebuah nilai\n",
    "\n",
    "# kita menggunakan preprocessing dari library sklearn\n",
    "from sklearn import preprocessing as pre\n",
    "\n",
    "# kita panggil standardScaler pada preprocessing\n",
    "scaler = pre.StandardScaler()\n",
    "scaler.fit_transform(data)"
   ]
  },
  {
   "cell_type": "code",
   "execution_count": 13,
   "metadata": {},
   "outputs": [
    {
     "output_type": "stream",
     "name": "stdout",
     "text": [
      "memakai random_state\n[8, 1, 5]\n[8, 1, 5]\n[8, 1, 5]\n\ntanpa random_state\n[6, 5, 4]\n[6, 1, 9]\n[9, 0, 2]\n"
     ]
    }
   ],
   "source": [
    "from sklearn.model_selection import train_test_split\n",
    "\n",
    "x_data = range(10)\n",
    "y_data = range(10)\n",
    "\n",
    "print('memakai random_state')\n",
    "for i in range(3):\n",
    "    x_test, y_test, x_train, y_train = train_test_split(x_data,y_data,test_size = 0.3 , random_state = 42)\n",
    "    print(y_test)\n",
    "\n",
    "print('\\ntanpa random_state')\n",
    "for i in range(3):\n",
    "    x_test, y_test, x_train, y_train = train_test_split(x_data,y_data,test_size = 0.3 , random_state = None)\n",
    "    print(y_test)    "
   ]
  },
  {
   "cell_type": "code",
   "execution_count": 32,
   "metadata": {},
   "outputs": [
    {
     "output_type": "stream",
     "name": "stdout",
     "text": [
      "30\n"
     ]
    }
   ],
   "source": [
    "import sklearn\n",
    "from sklearn import datasets\n",
    "\n",
    "irisData = datasets.load_iris()\n",
    "x = irisData.data\n",
    "y = irisData.target\n",
    "\n",
    "from sklearn.model_selection import train_test_split\n",
    "\n",
    "x_train, x_test, y_train, y_test = train_test_split(x,y, test_size = 0.2)\n",
    "print(len(y_test))\n",
    "\n"
   ]
  },
  {
   "cell_type": "code",
   "execution_count": 42,
   "metadata": {},
   "outputs": [
    {
     "output_type": "execute_result",
     "data": {
      "text/plain": [
       "array([0.96666667, 0.96666667, 0.9       , 1.        , 1.        ])"
      ]
     },
     "metadata": {},
     "execution_count": 42
    }
   ],
   "source": [
    "import sklearn\n",
    "from sklearn import datasets\n",
    "\n",
    "iris = datasets.load_iris()\n",
    "x = iris.data\n",
    "y = iris.target\n",
    "# pembuatan model machine learning dengan decision tree\n",
    "from sklearn import tree\n",
    "\n",
    "# membuat model decsion tree clasifier \n",
    "clasifier = tree.DecisionTreeClassifier()\n",
    "\n",
    "# melakukan cross validation dengan cross_val_score\n",
    "from sklearn.model_selection import cross_val_score\n",
    "\n",
    "# mengevaluasi performa model dengan cross_val_score\n",
    "score = cross_val_score(clasifier, x, y, cv = 5)\n",
    "score\n",
    "\n",
    "# ^^ contoh algoritma supervised lerning"
   ]
  }
 ]
}