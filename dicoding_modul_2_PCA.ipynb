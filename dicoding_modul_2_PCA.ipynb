{
 "metadata": {
  "language_info": {
   "codemirror_mode": {
    "name": "ipython",
    "version": 3
   },
   "file_extension": ".py",
   "mimetype": "text/x-python",
   "name": "python",
   "nbconvert_exporter": "python",
   "pygments_lexer": "ipython3",
   "version": "3.8.5-final"
  },
  "orig_nbformat": 2,
  "kernelspec": {
   "name": "python385jvsc74a57bd088907593cfb610c747ead06f2a07d50fa90ea1d2f0e6acefc6289fbf6aec7334",
   "display_name": "Python 3.8.5 64-bit (conda)"
  }
 },
 "nbformat": 4,
 "nbformat_minor": 2,
 "cells": [
  {
   "cell_type": "code",
   "execution_count": 11,
   "metadata": {},
   "outputs": [
    {
     "output_type": "execute_result",
     "data": {
      "text/plain": [
       "0.9666666666666667"
      ]
     },
     "metadata": {},
     "execution_count": 11
    }
   ],
   "source": [
    "import sklearn.datasets as datasets\n",
    "from sklearn.model_selection import train_test_split\n",
    "iris = datasets.load_iris()\n",
    "atribut = iris.data\n",
    "label = iris.target\n",
    "\n",
    "# membagi data menjadi train set dan test set\n",
    "x_train, x_test, y_train, y_test = train_test_split(atribut,label,test_size=0.2)\n",
    "\n",
    "# menggunakan metode decision tre\n",
    "\n",
    "from sklearn import tree\n",
    "decisionTree = tree.DecisionTreeClassifier()\n",
    "modelPertama = decisionTree.fit(x_train,y_train)\n",
    "modelPertama.score(x_test,y_test)\n",
    "\n",
    "# ^^ tanpa menggunakan PCA"
   ]
  },
  {
   "cell_type": "code",
   "execution_count": 13,
   "metadata": {},
   "outputs": [
    {
     "output_type": "execute_result",
     "data": {
      "text/plain": [
       "array([0.9224667 , 0.05552967, 0.01627104, 0.00573258])"
      ]
     },
     "metadata": {},
     "execution_count": 13
    }
   ],
   "source": [
    "# menggunakan metode PCA \n",
    "from sklearn.decomposition import PCA\n",
    "# membuat objek PCA dengan 4 principle model\n",
    "pca = PCA(n_components=4)\n",
    "\n",
    "# mengaplikasikan PCA pada dataset\n",
    "pca.fit_transform(x_train)\n",
    "\n",
    "# melihat variance dari setiap atribut\n",
    "pca.explained_variance_ratio_"
   ]
  },
  {
   "cell_type": "code",
   "execution_count": 20,
   "metadata": {},
   "outputs": [
    {
     "output_type": "execute_result",
     "data": {
      "text/plain": [
       "0.8333333333333334"
      ]
     },
     "metadata": {},
     "execution_count": 20
    }
   ],
   "source": [
    "# pca dengan 2 principle model\n",
    "## membuat object\n",
    "pca = PCA(n_components=2)\n",
    "\n",
    "x_train_pca = pca.fit_transform(x_train)\n",
    "x_test_pca = pca.fit_transform(x_test)\n",
    "\n",
    "# menguji akurasi clasifier\n",
    "model2 = decisionTree.fit(x_train_pca,y_train)\n",
    "model2.score(x_test_pca,y_test)"
   ]
  }
 ]
}