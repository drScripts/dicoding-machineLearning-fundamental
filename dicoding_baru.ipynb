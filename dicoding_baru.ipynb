{
 "metadata": {
  "language_info": {
   "codemirror_mode": {
    "name": "ipython",
    "version": 3
   },
   "file_extension": ".py",
   "mimetype": "text/x-python",
   "name": "python",
   "nbconvert_exporter": "python",
   "pygments_lexer": "ipython3",
   "version": "3.8.5-final"
  },
  "orig_nbformat": 2,
  "kernelspec": {
   "name": "python385jvsc74a57bd088907593cfb610c747ead06f2a07d50fa90ea1d2f0e6acefc6289fbf6aec7334",
   "display_name": "Python 3.8.5 64-bit (conda)"
  }
 },
 "nbformat": 4,
 "nbformat_minor": 2,
 "cells": [
  {
   "cell_type": "code",
   "execution_count": 3,
   "metadata": {},
   "outputs": [
    {
     "output_type": "stream",
     "name": "stdout",
     "text": [
      "Machine Learning Developer di Indonesia : \n                Name  Age\n0  Isyana Saraswati   30\n1  Nicholas Saputra   36\n2    Raisa Andriana   32\n"
     ]
    }
   ],
   "source": [
    "## mencoba splitting\n",
    "import pandas as pd\n",
    "\n",
    "Developer = pd.DataFrame(\n",
    "    {\n",
    "        'Name': ['Isyana Saraswati', 'Nicholas Saputra', 'Raisa Andriana'], \n",
    "        'Age':[30, 36, 32]\n",
    "        }\n",
    "    )\n",
    "print(\"Machine Learning Developer di Indonesia : \\n\" , Developer)"
   ]
  },
  {
   "cell_type": "code",
   "execution_count": 5,
   "metadata": {},
   "outputs": [
    {
     "output_type": "stream",
     "name": "stdout",
     "text": [
      "\n Split Kolom 'Name' lalu tambahkan kedua kolom : \n                Name  Age     first       last\n0  Isyana Saraswati   30    Isyana  Saraswati\n1  Nicholas Saputra   36  Nicholas    Saputra\n2    Raisa Andriana   32     Raisa   Andriana\n"
     ]
    }
   ],
   "source": [
    "Developer[['first','last']] = Developer.Name.str.split(expand=True)\n",
    "print(\"\\n Split Kolom 'Name' lalu tambahkan kedua kolom : \\n\",Developer)"
   ]
  },
  {
   "cell_type": "code",
   "execution_count": null,
   "metadata": {},
   "outputs": [],
   "source": []
  }
 ]
}